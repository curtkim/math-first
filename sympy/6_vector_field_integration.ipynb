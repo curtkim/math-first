{
 "cells": [
  {
   "cell_type": "code",
   "execution_count": 1,
   "id": "17588ab0",
   "metadata": {},
   "outputs": [],
   "source": [
    "from sympy import *\n",
    "init_printing()"
   ]
  },
  {
   "cell_type": "code",
   "execution_count": 2,
   "id": "3882d967",
   "metadata": {},
   "outputs": [],
   "source": [
    "x,y,z = symbols('x y z')\n",
    "t = symbols('t')"
   ]
  },
  {
   "cell_type": "markdown",
   "id": "f3c847c0",
   "metadata": {},
   "source": [
    "## Ex1"
   ]
  },
  {
   "cell_type": "code",
   "execution_count": 3,
   "id": "b71d3e20",
   "metadata": {},
   "outputs": [
    {
     "data": {
      "image/png": "[encoded data removed]",
      "text/latex": [
       "$\\displaystyle 156$"
      ],
      "text/plain": [
       "156"
      ]
     },
     "execution_count": 3,
     "metadata": {},
     "output_type": "execute_result"
    }
   ],
   "source": [
    "x = t\n",
    "y = 2*sqrt(t)\n",
    "\n",
    "f=y\n",
    "s=sqrt( diff(x,t)**2 + diff(y, t)**2)\n",
    "integrate(f*s, [t, 3, 24])"
   ]
  },
  {
   "cell_type": "markdown",
   "id": "5b39aab8",
   "metadata": {},
   "source": [
    "## Ex2"
   ]
  },
  {
   "cell_type": "code",
   "execution_count": 5,
   "id": "9cdee827",
   "metadata": {},
   "outputs": [
    {
     "data": {
      "image/png": "[encoded data removed]",
      "text/latex": [
       "$\\displaystyle 16 \\pi^{2}$"
      ],
      "text/plain": [
       "    2\n",
       "16⋅π "
      ]
     },
     "execution_count": 5,
     "metadata": {},
     "output_type": "execute_result"
    }
   ],
   "source": [
    "x = cos(t)\n",
    "y = sin(t)\n",
    "z = t\n",
    "F = [x**2+y**2+z**2, 0, 0]\n",
    "integrate(F[0]*diff(x,t) + F[1]*diff(y,t) + F[2]*diff(z,t), [t,0,4*pi])"
   ]
  },
  {
   "cell_type": "code",
   "execution_count": null,
   "id": "44bf8f0c",
   "metadata": {},
   "outputs": [],
   "source": []
  }
 ],
 "metadata": {
  "kernelspec": {
   "display_name": "Python 3",
   "language": "python",
   "name": "python3"
  },
  "language_info": {
   "codemirror_mode": {
    "name": "ipython",
    "version": 3
   },
   "file_extension": ".py",
   "mimetype": "text/x-python",
   "name": "python",
   "nbconvert_exporter": "python",
   "pygments_lexer": "ipython3",
   "version": "3.8.9"
  }
 },
 "nbformat": 4,
 "nbformat_minor": 5
}
